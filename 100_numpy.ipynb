{
  "nbformat": 4,
  "nbformat_minor": 0,
  "metadata": {
    "colab": {
      "name": "100 numpy.ipynb",
      "provenance": []
    },
    "kernelspec": {
      "name": "python3",
      "display_name": "Python 3"
    },
    "language_info": {
      "name": "python"
    }
  },
  "cells": [
    {
      "cell_type": "code",
      "metadata": {
        "id": "nz9PIWUGRHFY"
      },
      "source": [
        "import numpy as np"
      ],
      "execution_count": 1,
      "outputs": []
    },
    {
      "cell_type": "code",
      "metadata": {
        "colab": {
          "base_uri": "https://localhost:8080/"
        },
        "id": "Bs2hhy_bRaDT",
        "outputId": "011408b7-412c-43c6-daba-adc29fedba50"
      },
      "source": [
        "print(np.__version__)"
      ],
      "execution_count": 2,
      "outputs": [
        {
          "output_type": "stream",
          "name": "stdout",
          "text": [
            "1.19.5\n"
          ]
        }
      ]
    },
    {
      "cell_type": "code",
      "metadata": {
        "id": "jda-iThJR2qj"
      },
      "source": [
        "x=np.zeros(10)"
      ],
      "execution_count": 3,
      "outputs": []
    },
    {
      "cell_type": "code",
      "metadata": {
        "colab": {
          "base_uri": "https://localhost:8080/"
        },
        "id": "W2pMcDBYSLHy",
        "outputId": "2669f117-8bf0-4cea-9c2e-f7c0ac266a44"
      },
      "source": [
        "x.itemsize*x.size\n"
      ],
      "execution_count": 4,
      "outputs": [
        {
          "output_type": "execute_result",
          "data": {
            "text/plain": [
              "80"
            ]
          },
          "metadata": {},
          "execution_count": 4
        }
      ]
    },
    {
      "cell_type": "code",
      "metadata": {
        "colab": {
          "base_uri": "https://localhost:8080/"
        },
        "id": "UsfyEEVoSimZ",
        "outputId": "4cddeaa9-aa5f-4044-e398-02b95dbe007f"
      },
      "source": [
        "x[4]=1\n",
        "print(x)"
      ],
      "execution_count": 5,
      "outputs": [
        {
          "output_type": "stream",
          "name": "stdout",
          "text": [
            "[0. 0. 0. 0. 1. 0. 0. 0. 0. 0.]\n"
          ]
        }
      ]
    },
    {
      "cell_type": "code",
      "metadata": {
        "colab": {
          "base_uri": "https://localhost:8080/"
        },
        "id": "ei8dhwFJTlyN",
        "outputId": "4c98e5a6-a0cb-452a-e9e6-45d65712b419"
      },
      "source": [
        "\n",
        "x = np.arange(10,50)\n",
        "print(x)"
      ],
      "execution_count": 6,
      "outputs": [
        {
          "output_type": "stream",
          "name": "stdout",
          "text": [
            "[10 11 12 13 14 15 16 17 18 19 20 21 22 23 24 25 26 27 28 29 30 31 32 33\n",
            " 34 35 36 37 38 39 40 41 42 43 44 45 46 47 48 49]\n"
          ]
        }
      ]
    },
    {
      "cell_type": "code",
      "metadata": {
        "colab": {
          "base_uri": "https://localhost:8080/"
        },
        "id": "eMlcrIqMTy_6",
        "outputId": "697145d6-d13c-47bd-b761-164ce3a53d7a"
      },
      "source": [
        "x=x[::-1]\n",
        "print(x)"
      ],
      "execution_count": 7,
      "outputs": [
        {
          "output_type": "stream",
          "name": "stdout",
          "text": [
            "[49 48 47 46 45 44 43 42 41 40 39 38 37 36 35 34 33 32 31 30 29 28 27 26\n",
            " 25 24 23 22 21 20 19 18 17 16 15 14 13 12 11 10]\n"
          ]
        }
      ]
    },
    {
      "cell_type": "code",
      "metadata": {
        "colab": {
          "base_uri": "https://localhost:8080/"
        },
        "id": "U4fZa6QLTwRi",
        "outputId": "cd4dfc25-cac8-4225-9207-24d049753f56"
      },
      "source": [
        "x = np.arange(9).reshape(-1,3)\n",
        "print(x)"
      ],
      "execution_count": 8,
      "outputs": [
        {
          "output_type": "stream",
          "name": "stdout",
          "text": [
            "[[0 1 2]\n",
            " [3 4 5]\n",
            " [6 7 8]]\n"
          ]
        }
      ]
    },
    {
      "cell_type": "code",
      "metadata": {
        "colab": {
          "base_uri": "https://localhost:8080/"
        },
        "id": "ZD3X3erUUj11",
        "outputId": "9a329148-8b80-4633-c58e-7275d69fe2d9"
      },
      "source": [
        "x = np.nonzero([1,2,0,0,4,0])\n",
        "print(x)"
      ],
      "execution_count": 9,
      "outputs": [
        {
          "output_type": "stream",
          "name": "stdout",
          "text": [
            "(array([0, 1, 4]),)\n"
          ]
        }
      ]
    },
    {
      "cell_type": "code",
      "metadata": {
        "colab": {
          "base_uri": "https://localhost:8080/"
        },
        "id": "mI72woCdUj3u",
        "outputId": "e2d2b57e-e232-4a09-9f5d-7aca06423669"
      },
      "source": [
        "x = np.eye(3)\n",
        "print(x)"
      ],
      "execution_count": 10,
      "outputs": [
        {
          "output_type": "stream",
          "name": "stdout",
          "text": [
            "[[1. 0. 0.]\n",
            " [0. 1. 0.]\n",
            " [0. 0. 1.]]\n"
          ]
        }
      ]
    },
    {
      "cell_type": "code",
      "metadata": {
        "colab": {
          "base_uri": "https://localhost:8080/"
        },
        "id": "6U1aFq5mUj53",
        "outputId": "be279166-141b-4f19-9aac-928a91236889"
      },
      "source": [
        "x = np.random.random((3,3,3))\n",
        "print(x)"
      ],
      "execution_count": 11,
      "outputs": [
        {
          "output_type": "stream",
          "name": "stdout",
          "text": [
            "[[[0.89099465 0.73170244 0.04881272]\n",
            "  [0.01319806 0.07833314 0.41382057]\n",
            "  [0.77706475 0.94337608 0.87619322]]\n",
            "\n",
            " [[0.38034913 0.01382208 0.7277494 ]\n",
            "  [0.51747835 0.30955781 0.01005532]\n",
            "  [0.93219753 0.85297139 0.64348932]]\n",
            "\n",
            " [[0.2796319  0.66727641 0.32525872]\n",
            "  [0.62712518 0.37407603 0.82166281]\n",
            "  [0.52722975 0.71060257 0.04351836]]]\n"
          ]
        }
      ]
    },
    {
      "cell_type": "code",
      "metadata": {
        "colab": {
          "base_uri": "https://localhost:8080/"
        },
        "id": "cpGlU7QSUj7r",
        "outputId": "3c7a2c3f-969a-4c94-a59f-a7af56a771ae"
      },
      "source": [
        "x = np.random.random((10,10))\n",
        "print(x.min(), x.max())"
      ],
      "execution_count": 12,
      "outputs": [
        {
          "output_type": "stream",
          "name": "stdout",
          "text": [
            "0.008629812587694352 0.9989905469242338\n"
          ]
        }
      ]
    },
    {
      "cell_type": "code",
      "metadata": {
        "colab": {
          "base_uri": "https://localhost:8080/"
        },
        "id": "nPOPLzfeUj9d",
        "outputId": "0cab7be2-746a-4a06-9e24-57b853bbf7a6"
      },
      "source": [
        "x = np.random.random(30)\n",
        "print(x.mean())"
      ],
      "execution_count": 13,
      "outputs": [
        {
          "output_type": "stream",
          "name": "stdout",
          "text": [
            "0.5973518822105178\n"
          ]
        }
      ]
    },
    {
      "cell_type": "code",
      "metadata": {
        "colab": {
          "base_uri": "https://localhost:8080/"
        },
        "id": "yBOelSb5Uj_X",
        "outputId": "f120df18-6c0b-4669-9bda-1c9dcb042247"
      },
      "source": [
        "x = np.ones((10,10))\n",
        "x[1:-1,1:-1] = 0\n",
        "print(x)"
      ],
      "execution_count": 14,
      "outputs": [
        {
          "output_type": "stream",
          "name": "stdout",
          "text": [
            "[[1. 1. 1. 1. 1. 1. 1. 1. 1. 1.]\n",
            " [1. 0. 0. 0. 0. 0. 0. 0. 0. 1.]\n",
            " [1. 0. 0. 0. 0. 0. 0. 0. 0. 1.]\n",
            " [1. 0. 0. 0. 0. 0. 0. 0. 0. 1.]\n",
            " [1. 0. 0. 0. 0. 0. 0. 0. 0. 1.]\n",
            " [1. 0. 0. 0. 0. 0. 0. 0. 0. 1.]\n",
            " [1. 0. 0. 0. 0. 0. 0. 0. 0. 1.]\n",
            " [1. 0. 0. 0. 0. 0. 0. 0. 0. 1.]\n",
            " [1. 0. 0. 0. 0. 0. 0. 0. 0. 1.]\n",
            " [1. 1. 1. 1. 1. 1. 1. 1. 1. 1.]]\n"
          ]
        }
      ]
    },
    {
      "cell_type": "code",
      "metadata": {
        "colab": {
          "base_uri": "https://localhost:8080/"
        },
        "id": "Uk9RdzyMUkBK",
        "outputId": "ec17e8db-4274-4e8b-fd29-6ab6560925e0"
      },
      "source": [
        "x = np.zeros((10,10))\n",
        "x[1:-1,1:-1] = 1\n",
        "print(x)\n"
      ],
      "execution_count": 15,
      "outputs": [
        {
          "output_type": "stream",
          "name": "stdout",
          "text": [
            "[[0. 0. 0. 0. 0. 0. 0. 0. 0. 0.]\n",
            " [0. 1. 1. 1. 1. 1. 1. 1. 1. 0.]\n",
            " [0. 1. 1. 1. 1. 1. 1. 1. 1. 0.]\n",
            " [0. 1. 1. 1. 1. 1. 1. 1. 1. 0.]\n",
            " [0. 1. 1. 1. 1. 1. 1. 1. 1. 0.]\n",
            " [0. 1. 1. 1. 1. 1. 1. 1. 1. 0.]\n",
            " [0. 1. 1. 1. 1. 1. 1. 1. 1. 0.]\n",
            " [0. 1. 1. 1. 1. 1. 1. 1. 1. 0.]\n",
            " [0. 1. 1. 1. 1. 1. 1. 1. 1. 0.]\n",
            " [0. 0. 0. 0. 0. 0. 0. 0. 0. 0.]]\n"
          ]
        }
      ]
    },
    {
      "cell_type": "code",
      "metadata": {
        "colab": {
          "base_uri": "https://localhost:8080/"
        },
        "id": "cMmNLEV4UkDV",
        "outputId": "1b78a0ca-3822-4aab-a96c-60c49ba52df6"
      },
      "source": [
        "0 * np.nan\n",
        "np.nan == np.nan\n",
        "np.inf > np.nan\n",
        "np.nan - np.nan\n",
        "np.nan in set([np.nan])\n",
        "0.3 == 3 * 0.1\n",
        "\n"
      ],
      "execution_count": 16,
      "outputs": [
        {
          "output_type": "execute_result",
          "data": {
            "text/plain": [
              "False"
            ]
          },
          "metadata": {},
          "execution_count": 16
        }
      ]
    },
    {
      "cell_type": "code",
      "metadata": {
        "colab": {
          "base_uri": "https://localhost:8080/"
        },
        "id": "dXLWiAXtXyGi",
        "outputId": "b228ae70-891c-4017-cb7c-21942163dbad"
      },
      "source": [
        "x = np.diag(1+np.arange(4))\n",
        "print(x)"
      ],
      "execution_count": 17,
      "outputs": [
        {
          "output_type": "stream",
          "name": "stdout",
          "text": [
            "[[1 0 0 0]\n",
            " [0 2 0 0]\n",
            " [0 0 3 0]\n",
            " [0 0 0 4]]\n"
          ]
        }
      ]
    },
    {
      "cell_type": "code",
      "metadata": {
        "colab": {
          "base_uri": "https://localhost:8080/"
        },
        "id": "XU2c6tYtXyEY",
        "outputId": "75b72c57-bfff-418f-e101-7988aeaf23f7"
      },
      "source": [
        "x = np.diag(1+np.arange(4),k=-1)\n",
        "print(x)"
      ],
      "execution_count": 18,
      "outputs": [
        {
          "output_type": "stream",
          "name": "stdout",
          "text": [
            "[[0 0 0 0 0]\n",
            " [1 0 0 0 0]\n",
            " [0 2 0 0 0]\n",
            " [0 0 3 0 0]\n",
            " [0 0 0 4 0]]\n"
          ]
        }
      ]
    },
    {
      "cell_type": "code",
      "metadata": {
        "colab": {
          "base_uri": "https://localhost:8080/"
        },
        "id": "3CMTl5tAXyK8",
        "outputId": "d8431e4b-688d-4b7b-d0fd-86280cb15791"
      },
      "source": [
        "x = np.zeros((8,8));x[1::2,::2] = 1;x[::2,1::2] = 1\n",
        "print(x)\n"
      ],
      "execution_count": 19,
      "outputs": [
        {
          "output_type": "stream",
          "name": "stdout",
          "text": [
            "[[0. 1. 0. 1. 0. 1. 0. 1.]\n",
            " [1. 0. 1. 0. 1. 0. 1. 0.]\n",
            " [0. 1. 0. 1. 0. 1. 0. 1.]\n",
            " [1. 0. 1. 0. 1. 0. 1. 0.]\n",
            " [0. 1. 0. 1. 0. 1. 0. 1.]\n",
            " [1. 0. 1. 0. 1. 0. 1. 0.]\n",
            " [0. 1. 0. 1. 0. 1. 0. 1.]\n",
            " [1. 0. 1. 0. 1. 0. 1. 0.]]\n"
          ]
        }
      ]
    },
    {
      "cell_type": "code",
      "metadata": {
        "id": "CEBv0pt8XyIy",
        "colab": {
          "base_uri": "https://localhost:8080/"
        },
        "outputId": "7db94953-1bbb-4ab3-b53f-3edc04a0c1df"
      },
      "source": [
        "#copied didnt get the question\n",
        "print(np.unravel_index(99,(6,7,8)))\n"
      ],
      "execution_count": 20,
      "outputs": [
        {
          "output_type": "stream",
          "name": "stdout",
          "text": [
            "(1, 5, 3)\n"
          ]
        }
      ]
    },
    {
      "cell_type": "code",
      "metadata": {
        "colab": {
          "base_uri": "https://localhost:8080/"
        },
        "id": "uQja7IAYXyO9",
        "outputId": "47a353f5-7c22-4cd8-cec2-618950f31127"
      },
      "source": [
        "x=np.tile([[1,0],[0,1]],(4,4))\n",
        "print(x)"
      ],
      "execution_count": 21,
      "outputs": [
        {
          "output_type": "stream",
          "name": "stdout",
          "text": [
            "[[1 0 1 0 1 0 1 0]\n",
            " [0 1 0 1 0 1 0 1]\n",
            " [1 0 1 0 1 0 1 0]\n",
            " [0 1 0 1 0 1 0 1]\n",
            " [1 0 1 0 1 0 1 0]\n",
            " [0 1 0 1 0 1 0 1]\n",
            " [1 0 1 0 1 0 1 0]\n",
            " [0 1 0 1 0 1 0 1]]\n"
          ]
        }
      ]
    },
    {
      "cell_type": "code",
      "metadata": {
        "id": "YGtmAJxoXyQ-",
        "colab": {
          "base_uri": "https://localhost:8080/"
        },
        "outputId": "6314e59e-d9eb-4edb-cf7e-6c23acfa9ca7"
      },
      "source": [
        "x=np.random.random((5,5))\n",
        "x=(x-np.mean(x))/np.std(x)\n",
        "\n",
        "print(x)\n",
        "\n"
      ],
      "execution_count": 22,
      "outputs": [
        {
          "output_type": "stream",
          "name": "stdout",
          "text": [
            "[[-0.05699946  1.31263625  0.64008008  0.57713175  0.18464373]\n",
            " [ 1.35529837 -0.3964455  -1.339222    1.33404819 -1.62989336]\n",
            " [-1.13270615  0.2843633   1.41037992  1.29220127  0.24519837]\n",
            " [ 0.27297438 -0.88636279 -0.40160562 -1.32317589 -1.07341242]\n",
            " [-1.60191325  0.43109721  0.16877179  1.26868588 -0.93577406]]\n"
          ]
        }
      ]
    },
    {
      "cell_type": "code",
      "metadata": {
        "id": "qz-3ToWVXyTI"
      },
      "source": [
        "color = np.dtype([(\"r\", np.ubyte),\n",
        "                  (\"g\", np.ubyte),\n",
        "                  (\"b\", np.ubyte),\n",
        "                  (\"a\", np.ubyte)])"
      ],
      "execution_count": 23,
      "outputs": []
    },
    {
      "cell_type": "code",
      "metadata": {
        "id": "N8Mh9pihXyVI",
        "colab": {
          "base_uri": "https://localhost:8080/"
        },
        "outputId": "075ebdc6-7b5f-4f42-b35b-54fb6f2fd1a9"
      },
      "source": [
        "x=np.random.random((5,3)) @ np.random.random((3,2))\n",
        "print(x)"
      ],
      "execution_count": 24,
      "outputs": [
        {
          "output_type": "stream",
          "name": "stdout",
          "text": [
            "[[0.25428436 0.13083057]\n",
            " [0.75129602 0.75755608]\n",
            " [0.76451858 0.75322991]\n",
            " [0.75853716 0.36489389]\n",
            " [0.32921673 0.59064574]]\n"
          ]
        }
      ]
    },
    {
      "cell_type": "code",
      "metadata": {
        "colab": {
          "base_uri": "https://localhost:8080/"
        },
        "id": "sglh8k8KFN_t",
        "outputId": "f2ae1f81-f368-4852-9a24-e4b6669d366c"
      },
      "source": [
        "x=np.arange(10)\n",
        "x[(3 < x) & (x < 8)] *= -1\n",
        "print(x)"
      ],
      "execution_count": 25,
      "outputs": [
        {
          "output_type": "stream",
          "name": "stdout",
          "text": [
            "[ 0  1  2  3 -4 -5 -6 -7  8  9]\n"
          ]
        }
      ]
    },
    {
      "cell_type": "code",
      "metadata": {
        "id": "uPK06-1NUkFG",
        "colab": {
          "base_uri": "https://localhost:8080/"
        },
        "outputId": "917d8ebc-0311-4f4b-eb11-8fa043a5f2c0"
      },
      "source": [
        "print(sum(range(5),-1))\n",
        "from numpy import *\n",
        "print(sum(range(5),-1))"
      ],
      "execution_count": 26,
      "outputs": [
        {
          "output_type": "stream",
          "name": "stdout",
          "text": [
            "9\n",
            "10\n"
          ]
        }
      ]
    },
    {
      "cell_type": "code",
      "metadata": {
        "id": "yVp2g4npUkHE",
        "colab": {
          "base_uri": "https://localhost:8080/"
        },
        "outputId": "9f9ead65-63e5-4bf4-be4c-b2cd0763dfb0"
      },
      "source": [
        "Z=2\n",
        "print(Z**Z)\n",
        "#2 << Z >> 2\n",
        "Z <- Z\n",
        "\n",
        "1j*Z\n",
        "\n",
        "Z/1/1\n",
        "#Z<Z>Z"
      ],
      "execution_count": 27,
      "outputs": [
        {
          "output_type": "stream",
          "name": "stdout",
          "text": [
            "4\n"
          ]
        },
        {
          "output_type": "execute_result",
          "data": {
            "text/plain": [
              "2.0"
            ]
          },
          "metadata": {},
          "execution_count": 27
        }
      ]
    },
    {
      "cell_type": "code",
      "metadata": {
        "id": "tghfCGojUkNr",
        "colab": {
          "base_uri": "https://localhost:8080/"
        },
        "outputId": "dc210569-a960-48fa-e569-01cad92df006"
      },
      "source": [
        "print(np.array(0) / np.array(0))\n",
        "print(np.array(0) // np.array(0))\n",
        "print(np.array([np.nan]).astype(int).astype(float))\n"
      ],
      "execution_count": 28,
      "outputs": [
        {
          "output_type": "stream",
          "name": "stdout",
          "text": [
            "nan\n",
            "0\n",
            "[-9.22337204e+18]\n"
          ]
        },
        {
          "output_type": "stream",
          "name": "stderr",
          "text": [
            "/usr/local/lib/python3.7/dist-packages/ipykernel_launcher.py:1: RuntimeWarning: invalid value encountered in true_divide\n",
            "  \"\"\"Entry point for launching an IPython kernel.\n",
            "/usr/local/lib/python3.7/dist-packages/ipykernel_launcher.py:2: RuntimeWarning: divide by zero encountered in floor_divide\n",
            "  \n"
          ]
        }
      ]
    },
    {
      "cell_type": "code",
      "metadata": {
        "colab": {
          "base_uri": "https://localhost:8080/"
        },
        "id": "IYg_Sqg9Dvl2",
        "outputId": "f930d7c0-a23f-408c-bf5b-2ff23fe04476"
      },
      "source": [
        "#copied\n",
        "Z = np.random.uniform(-10,+10,10)\n",
        "print(np.copysign(np.ceil(np.abs(Z)), Z))\n",
        "\n",
        "# More readable but less efficient\n",
        "print(np.where(Z>0, np.ceil(Z), np.floor(Z)))"
      ],
      "execution_count": 29,
      "outputs": [
        {
          "output_type": "stream",
          "name": "stdout",
          "text": [
            "[ 9.  6.  5.  7. -5. -4.  9.  4. -4.  5.]\n",
            "[ 9.  6.  5.  7. -5. -4.  9.  4. -4.  5.]\n"
          ]
        }
      ]
    },
    {
      "cell_type": "code",
      "metadata": {
        "colab": {
          "base_uri": "https://localhost:8080/"
        },
        "id": "fb0K7KJPDvxb",
        "outputId": "88728f3e-afa5-4c0a-9e1a-dd96633da348"
      },
      "source": [
        "x = np.random.randint(1,100,10)\n",
        "y = np.random.randint(1,50,10)\n",
        "print(x)\n",
        "print(y)\n",
        "print(np.intersect1d(x,y))"
      ],
      "execution_count": 30,
      "outputs": [
        {
          "output_type": "stream",
          "name": "stdout",
          "text": [
            "[21 56 32 43 53 12  9 82 14 99]\n",
            "[ 3 40 13 10 22 44 14 10 40 42]\n",
            "[14]\n"
          ]
        }
      ]
    },
    {
      "cell_type": "code",
      "metadata": {
        "id": "tRDttD1XDvzg"
      },
      "source": [
        ""
      ],
      "execution_count": 30,
      "outputs": []
    },
    {
      "cell_type": "code",
      "metadata": {
        "colab": {
          "base_uri": "https://localhost:8080/"
        },
        "id": "fNfVxupLDv1S",
        "outputId": "b99d742b-38c6-46eb-d54a-2093a954c7dc"
      },
      "source": [
        "data = np.random.random(1000).reshape(10, 10,10) * np.nan\n",
        "np.seterr(all=\"ignore\")\n",
        "np.nanmedian(data, axis=[1, 2])"
      ],
      "execution_count": 31,
      "outputs": [
        {
          "output_type": "stream",
          "name": "stderr",
          "text": [
            "/usr/local/lib/python3.7/dist-packages/numpy/lib/nanfunctions.py:1114: RuntimeWarning: All-NaN slice encountered\n",
            "  overwrite_input=overwrite_input)\n"
          ]
        },
        {
          "output_type": "execute_result",
          "data": {
            "text/plain": [
              "array([nan, nan, nan, nan, nan, nan, nan, nan, nan, nan])"
            ]
          },
          "metadata": {},
          "execution_count": 31
        }
      ]
    },
    {
      "cell_type": "code",
      "metadata": {
        "colab": {
          "base_uri": "https://localhost:8080/"
        },
        "id": "s3PyJw3zDv3e",
        "outputId": "d10632d0-c103-4230-fa8d-167328613274"
      },
      "source": [
        "np.sqrt(-1) == np.emath.sqrt(-1)"
      ],
      "execution_count": 32,
      "outputs": [
        {
          "output_type": "execute_result",
          "data": {
            "text/plain": [
              "False"
            ]
          },
          "metadata": {},
          "execution_count": 32
        }
      ]
    },
    {
      "cell_type": "code",
      "metadata": {
        "colab": {
          "base_uri": "https://localhost:8080/"
        },
        "id": "dV02oF2xIliV",
        "outputId": "28fd7caf-ddd6-417a-ed70-229899fcae8c"
      },
      "source": [
        "yesterday = np.datetime64('today') - np.timedelta64(1)\n",
        "today     = np.datetime64('today')\n",
        "tomorrow  = np.datetime64('today') + np.timedelta64(1)\n",
        "print(yesterday,today,tomorrow)"
      ],
      "execution_count": 33,
      "outputs": [
        {
          "output_type": "stream",
          "name": "stdout",
          "text": [
            "2021-09-08 2021-09-09 2021-09-10\n"
          ]
        }
      ]
    },
    {
      "cell_type": "code",
      "metadata": {
        "colab": {
          "base_uri": "https://localhost:8080/"
        },
        "id": "XfFCMPsHIlnV",
        "outputId": "15515c05-409a-4fd5-acff-59d1bbd06312"
      },
      "source": [
        "x=np.arange('2016-07', '2016-08',dtype='datetime64[D]')\n",
        "print(x)"
      ],
      "execution_count": 34,
      "outputs": [
        {
          "output_type": "stream",
          "name": "stdout",
          "text": [
            "['2016-07-01' '2016-07-02' '2016-07-03' '2016-07-04' '2016-07-05'\n",
            " '2016-07-06' '2016-07-07' '2016-07-08' '2016-07-09' '2016-07-10'\n",
            " '2016-07-11' '2016-07-12' '2016-07-13' '2016-07-14' '2016-07-15'\n",
            " '2016-07-16' '2016-07-17' '2016-07-18' '2016-07-19' '2016-07-20'\n",
            " '2016-07-21' '2016-07-22' '2016-07-23' '2016-07-24' '2016-07-25'\n",
            " '2016-07-26' '2016-07-27' '2016-07-28' '2016-07-29' '2016-07-30'\n",
            " '2016-07-31']\n"
          ]
        }
      ]
    },
    {
      "cell_type": "code",
      "metadata": {
        "colab": {
          "base_uri": "https://localhost:8080/"
        },
        "id": "PdN94LDnIlrK",
        "outputId": "de22d9df-ac8d-4926-d87c-b53fcd94fd81"
      },
      "source": [
        "A=np.random.randint(0,10,5)\n",
        "B=np.random.randint(0,10,5)\n",
        "\n",
        "print(((A+B)*(-A/2)))\n"
      ],
      "execution_count": 35,
      "outputs": [
        {
          "output_type": "stream",
          "name": "stdout",
          "text": [
            "[-13.5 -40.  -27.    0.    0. ]\n"
          ]
        }
      ]
    },
    {
      "cell_type": "code",
      "metadata": {
        "colab": {
          "base_uri": "https://localhost:8080/"
        },
        "id": "xn-utnVsIlvZ",
        "outputId": "a1b93351-ef3e-4e6a-d6bf-9f881a3a13e7"
      },
      "source": [
        "x = np.random.uniform(0,10,10)\n",
        "print(x)\n",
        "print(x - x%1)\n",
        "print(x // 1)\n",
        "print(np.floor(x))\n",
        "print(np.trunc(x))"
      ],
      "execution_count": 36,
      "outputs": [
        {
          "output_type": "stream",
          "name": "stdout",
          "text": [
            "[7.14469169 7.58266166 9.08266792 5.79865759 0.79085966 7.35298856\n",
            " 9.18460145 1.35653231 3.58368611 4.75203411]\n",
            "[7. 7. 9. 5. 0. 7. 9. 1. 3. 4.]\n",
            "[7. 7. 9. 5. 0. 7. 9. 1. 3. 4.]\n",
            "[7. 7. 9. 5. 0. 7. 9. 1. 3. 4.]\n",
            "[7. 7. 9. 5. 0. 7. 9. 1. 3. 4.]\n"
          ]
        }
      ]
    },
    {
      "cell_type": "code",
      "metadata": {
        "colab": {
          "base_uri": "https://localhost:8080/"
        },
        "id": "mISLLpg5IlzI",
        "outputId": "e101f343-9789-45de-903c-763f2c634942"
      },
      "source": [
        "x=np.tile(np.arange(5),(4,1))\n",
        "print(x)"
      ],
      "execution_count": 37,
      "outputs": [
        {
          "output_type": "stream",
          "name": "stdout",
          "text": [
            "[[0 1 2 3 4]\n",
            " [0 1 2 3 4]\n",
            " [0 1 2 3 4]\n",
            " [0 1 2 3 4]]\n"
          ]
        }
      ]
    },
    {
      "cell_type": "code",
      "metadata": {
        "colab": {
          "base_uri": "https://localhost:8080/"
        },
        "id": "DzBI2QDtIl3N",
        "outputId": "522d25ae-9661-458a-ac95-80feb65ce4ca"
      },
      "source": [
        "def f():\n",
        "  x=[]\n",
        "  for i in range(10):\n",
        "    x.append(i)\n",
        "  return x\n",
        "print(f())"
      ],
      "execution_count": 38,
      "outputs": [
        {
          "output_type": "stream",
          "name": "stdout",
          "text": [
            "[0, 1, 2, 3, 4, 5, 6, 7, 8, 9]\n"
          ]
        }
      ]
    },
    {
      "cell_type": "code",
      "metadata": {
        "colab": {
          "base_uri": "https://localhost:8080/"
        },
        "id": "a8Uzm582Il5m",
        "outputId": "598448cc-250d-49bd-8000-6d065f5148b2"
      },
      "source": [
        "x = np.linspace(0,1,11,endpoint=False)[1:]\n",
        "print(x)"
      ],
      "execution_count": 39,
      "outputs": [
        {
          "output_type": "stream",
          "name": "stdout",
          "text": [
            "[0.09090909 0.18181818 0.27272727 0.36363636 0.45454545 0.54545455\n",
            " 0.63636364 0.72727273 0.81818182 0.90909091]\n"
          ]
        }
      ]
    },
    {
      "cell_type": "code",
      "metadata": {
        "colab": {
          "base_uri": "https://localhost:8080/"
        },
        "id": "RDqYHzN_Il79",
        "outputId": "5682adea-f1de-4beb-fca5-689b38a3e022"
      },
      "source": [
        "x=np.random.random(10)\n",
        "x.sort()\n",
        "print(x)"
      ],
      "execution_count": 40,
      "outputs": [
        {
          "output_type": "stream",
          "name": "stdout",
          "text": [
            "[0.06377743 0.18537598 0.23594244 0.24227378 0.47719022 0.50591512\n",
            " 0.60881599 0.73278308 0.73819322 0.88086757]\n"
          ]
        }
      ]
    },
    {
      "cell_type": "code",
      "metadata": {
        "colab": {
          "base_uri": "https://localhost:8080/"
        },
        "id": "PrJTyPCFIl-X",
        "outputId": "986df1ce-e898-4b87-fa74-f12ee322bffd"
      },
      "source": [
        "x = np.arange(5)\n",
        "np.add.reduce(x)\n"
      ],
      "execution_count": 41,
      "outputs": [
        {
          "output_type": "execute_result",
          "data": {
            "text/plain": [
              "10"
            ]
          },
          "metadata": {},
          "execution_count": 41
        }
      ]
    },
    {
      "cell_type": "code",
      "metadata": {
        "colab": {
          "base_uri": "https://localhost:8080/"
        },
        "id": "svvvdOH8ImAY",
        "outputId": "c72aeb51-a389-4aa7-deef-227aa9ec147d"
      },
      "source": [
        "A=[1.0,2,3]\n",
        "B=[1,2,3]\n",
        "equal = np.array_equal(A,B)\n",
        "print(equal)"
      ],
      "execution_count": 42,
      "outputs": [
        {
          "output_type": "stream",
          "name": "stdout",
          "text": [
            "True\n"
          ]
        }
      ]
    },
    {
      "cell_type": "code",
      "metadata": {
        "id": "SSWf5KxbImCV"
      },
      "source": [
        "x = np.arange(10)\n",
        "x.flags.writeable = False"
      ],
      "execution_count": 43,
      "outputs": []
    },
    {
      "cell_type": "code",
      "metadata": {
        "colab": {
          "base_uri": "https://localhost:8080/"
        },
        "id": "fQK0lMeeImEc",
        "outputId": "13a6ae0a-85e1-407a-944d-0a01dd0d753c"
      },
      "source": [
        "m = np.random.randint(1,10,(10,2))\n",
        "x,y = m[:,0], m[:,1]\n",
        "#print(m,x,y)\n",
        "R = np.sqrt(x**2+y**2)\n",
        "T = np.arctan2(y,x)\n",
        "print(R)\n",
        "print(T)"
      ],
      "execution_count": 44,
      "outputs": [
        {
          "output_type": "stream",
          "name": "stdout",
          "text": [
            "[ 3.16227766  7.61577311  6.08276253 12.72792206  9.8488578   6.70820393\n",
            "  8.24621125  8.54400375  8.48528137  3.16227766]\n",
            "[0.32175055 0.40489179 1.40564765 0.78539816 1.152572   0.46364761\n",
            " 1.32581766 0.35877067 0.78539816 0.32175055]\n"
          ]
        }
      ]
    },
    {
      "cell_type": "code",
      "metadata": {
        "colab": {
          "base_uri": "https://localhost:8080/"
        },
        "id": "ckld82j2ImGy",
        "outputId": "63aca3e7-3ee2-4f33-bd32-d8d0beda77f8"
      },
      "source": [
        "x =np.random.randint(1,100,10)\n",
        "x[x.argmax()] = 0\n",
        "print(x)"
      ],
      "execution_count": 45,
      "outputs": [
        {
          "output_type": "stream",
          "name": "stdout",
          "text": [
            "[42 72 68  0 23  2 17 15 79 17]\n"
          ]
        }
      ]
    },
    {
      "cell_type": "code",
      "metadata": {
        "colab": {
          "base_uri": "https://localhost:8080/"
        },
        "id": "Ev9LHSAJImIt",
        "outputId": "226ba04a-23bf-40f9-ac93-f52897744f74"
      },
      "source": [
        "z = np.zeros((5,5), [('x',float),('y',float)])\n",
        "z['x'], z['y']=np.meshgrid(np.linspace(0,1,5),np.linspace(0,1,5))\n",
        "print(z)"
      ],
      "execution_count": 46,
      "outputs": [
        {
          "output_type": "stream",
          "name": "stdout",
          "text": [
            "[[(0.  , 0.  ) (0.25, 0.  ) (0.5 , 0.  ) (0.75, 0.  ) (1.  , 0.  )]\n",
            " [(0.  , 0.25) (0.25, 0.25) (0.5 , 0.25) (0.75, 0.25) (1.  , 0.25)]\n",
            " [(0.  , 0.5 ) (0.25, 0.5 ) (0.5 , 0.5 ) (0.75, 0.5 ) (1.  , 0.5 )]\n",
            " [(0.  , 0.75) (0.25, 0.75) (0.5 , 0.75) (0.75, 0.75) (1.  , 0.75)]\n",
            " [(0.  , 1.  ) (0.25, 1.  ) (0.5 , 1.  ) (0.75, 1.  ) (1.  , 1.  )]]\n"
          ]
        }
      ]
    },
    {
      "cell_type": "code",
      "metadata": {
        "colab": {
          "base_uri": "https://localhost:8080/"
        },
        "id": "m6WXM-teImKr",
        "outputId": "80670c5c-d8f4-48cb-a16f-bd2d71eecf76"
      },
      "source": [
        "x=np.arange(3)\n",
        "y=np.arange(3)\n",
        "z = 1/np.subtract.outer(x, x)\n",
        "print(z)\n"
      ],
      "execution_count": 47,
      "outputs": [
        {
          "output_type": "stream",
          "name": "stdout",
          "text": [
            "[[ inf -1.  -0.5]\n",
            " [ 1.   inf -1. ]\n",
            " [ 0.5  1.   inf]]\n"
          ]
        }
      ]
    },
    {
      "cell_type": "code",
      "metadata": {
        "colab": {
          "base_uri": "https://localhost:8080/"
        },
        "id": "SNp0jinSImMk",
        "outputId": "5389eaee-4f43-4d13-de53-b118a450f159"
      },
      "source": [
        "for dtype in [np.int8, np.int32, np.int64]:\n",
        "   print(np.iinfo(dtype).min)\n",
        "   print(np.iinfo(dtype).max)\n",
        "for dtype in [np.float32, np.float64]:\n",
        "   print(np.finfo(dtype).min)\n",
        "   print(np.finfo(dtype).max)\n",
        "   print(np.finfo(dtype).eps)"
      ],
      "execution_count": 48,
      "outputs": [
        {
          "output_type": "stream",
          "name": "stdout",
          "text": [
            "-128\n",
            "127\n",
            "-2147483648\n",
            "2147483647\n",
            "-9223372036854775808\n",
            "9223372036854775807\n",
            "-3.4028235e+38\n",
            "3.4028235e+38\n",
            "1.1920929e-07\n",
            "-1.7976931348623157e+308\n",
            "1.7976931348623157e+308\n",
            "2.220446049250313e-16\n"
          ]
        }
      ]
    },
    {
      "cell_type": "code",
      "metadata": {
        "colab": {
          "base_uri": "https://localhost:8080/"
        },
        "id": "n6xYmAsOImOw",
        "outputId": "16e4eb04-66ec-44dd-aded-b1c4f6341b8a"
      },
      "source": [
        "m = np.random.randint(1,10,(2,2))\n",
        "print(m)"
      ],
      "execution_count": 49,
      "outputs": [
        {
          "output_type": "stream",
          "name": "stdout",
          "text": [
            "[[9 4]\n",
            " [2 4]]\n"
          ]
        }
      ]
    },
    {
      "cell_type": "code",
      "metadata": {
        "id": "l-HVoHOBImQ-",
        "colab": {
          "base_uri": "https://localhost:8080/"
        },
        "outputId": "9daf9eaa-94bd-4414-afd3-2f46c280b1d6"
      },
      "source": [
        "import numpy as np\n",
        "vec = np.arange(10)\n",
        "sec = np.random.uniform(0,10)\n",
        "index = (np.abs(vec-sec)).argmin()\n",
        "print(vec[index])\n"
      ],
      "execution_count": 50,
      "outputs": [
        {
          "output_type": "stream",
          "name": "stdout",
          "text": [
            "4\n"
          ]
        }
      ]
    },
    {
      "cell_type": "code",
      "metadata": {
        "id": "Hjn5z1QHImS_",
        "colab": {
          "base_uri": "https://localhost:8080/"
        },
        "outputId": "d1f98a56-461a-4ccf-d1bc-140ac7e3132c"
      },
      "source": [
        "Z = np.zeros(10, [ ('position', [ ('x', float, 1),\n",
        "                                  ('y', float, 1)]),\n",
        "                   ('color',    [ ('r', float, 1),\n",
        "                                  ('g', float, 1),\n",
        "                                  ('b', float, 1)])])\n",
        "print(Z)"
      ],
      "execution_count": 51,
      "outputs": [
        {
          "output_type": "stream",
          "name": "stdout",
          "text": [
            "[((0., 0.), (0., 0., 0.)) ((0., 0.), (0., 0., 0.))\n",
            " ((0., 0.), (0., 0., 0.)) ((0., 0.), (0., 0., 0.))\n",
            " ((0., 0.), (0., 0., 0.)) ((0., 0.), (0., 0., 0.))\n",
            " ((0., 0.), (0., 0., 0.)) ((0., 0.), (0., 0., 0.))\n",
            " ((0., 0.), (0., 0., 0.)) ((0., 0.), (0., 0., 0.))]\n"
          ]
        },
        {
          "output_type": "stream",
          "name": "stderr",
          "text": [
            "/usr/local/lib/python3.7/dist-packages/ipykernel_launcher.py:5: FutureWarning: Passing (type, 1) or '1type' as a synonym of type is deprecated; in a future version of numpy, it will be understood as (type, (1,)) / '(1,)type'.\n",
            "  \"\"\"\n"
          ]
        }
      ]
    },
    {
      "cell_type": "code",
      "metadata": {
        "id": "RQqV7BYOImU8",
        "colab": {
          "base_uri": "https://localhost:8080/"
        },
        "outputId": "be47eb9d-d6f6-4435-f935-ba6a0599f405"
      },
      "source": [
        "v= np.random.random((100,2))\n",
        "x,y = np.atleast_2d(v[:,0], v[:,1])\n",
        "d = np.sqrt( (x-x.T)**2 + (y-y.T)**2)\n",
        "print(d)"
      ],
      "execution_count": 52,
      "outputs": [
        {
          "output_type": "stream",
          "name": "stdout",
          "text": [
            "[[0.         0.34515433 0.88324303 ... 0.50882275 0.47285853 1.04058191]\n",
            " [0.34515433 0.         0.53808871 ... 0.17285696 0.45563562 0.69917239]\n",
            " [0.88324303 0.53808871 0.         ... 0.38480481 0.8112458  0.19537959]\n",
            " ...\n",
            " [0.50882275 0.17285696 0.38480481 ... 0.         0.58570329 0.56266963]\n",
            " [0.47285853 0.45563562 0.8112458  ... 0.58570329 0.         0.89116139]\n",
            " [1.04058191 0.69917239 0.19537959 ... 0.56266963 0.89116139 0.        ]]\n"
          ]
        }
      ]
    },
    {
      "cell_type": "code",
      "metadata": {
        "id": "cKofIH0hImXB",
        "colab": {
          "base_uri": "https://localhost:8080/"
        },
        "outputId": "fa124ae4-f821-43a2-adf1-4b003deee7b3"
      },
      "source": [
        "from numpy  import *\n",
        "v= np.random.uniform(1,10,10)\n",
        "vint = array(v, dtype ='int32' )\n",
        "print(v)\n",
        "print(vint)\n"
      ],
      "execution_count": 53,
      "outputs": [
        {
          "output_type": "stream",
          "name": "stdout",
          "text": [
            "[6.15406451 2.94830107 2.19188416 9.22059298 4.49348622 2.86618988\n",
            " 1.35639745 5.84766295 5.27688178 8.15742486]\n",
            "[6 2 2 9 4 2 1 5 5 8]\n"
          ]
        }
      ]
    },
    {
      "cell_type": "code",
      "metadata": {
        "id": "sJX1iG3hImY9",
        "colab": {
          "base_uri": "https://localhost:8080/"
        },
        "outputId": "3c6b776a-f459-4176-c2e6-243ad03a8acb"
      },
      "source": [
        "#copied\n",
        "from io import StringIO\n",
        "s = StringIO('''1, 2, 3, 4, 5\n",
        "\n",
        "                6,  ,  , 7, 8\n",
        "\n",
        "                 ,  , 9,10,11\n",
        "''')\n",
        "Z = np.genfromtxt(s, delimiter=\",\", dtype=np.int)\n",
        "print(Z)"
      ],
      "execution_count": 54,
      "outputs": [
        {
          "output_type": "stream",
          "name": "stdout",
          "text": [
            "[[ 1  2  3  4  5]\n",
            " [ 6 -1 -1  7  8]\n",
            " [-1 -1  9 10 11]]\n"
          ]
        }
      ]
    },
    {
      "cell_type": "code",
      "metadata": {
        "id": "NsxV4O2JImg7",
        "colab": {
          "base_uri": "https://localhost:8080/"
        },
        "outputId": "3d21d1f3-485d-406c-f4f6-9a3f8338235c"
      },
      "source": [
        "a = np.array([[1, 2], [3, 4]])\n",
        "for index, x in np.ndenumerate(a):\n",
        "    print(index, x)\n",
        "print(\"\\n\")\n",
        "for index in np.ndindex(a.shape):\n",
        "    print(index, a[index])"
      ],
      "execution_count": 55,
      "outputs": [
        {
          "output_type": "stream",
          "name": "stdout",
          "text": [
            "(0, 0) 1\n",
            "(0, 1) 2\n",
            "(1, 0) 3\n",
            "(1, 1) 4\n",
            "\n",
            "\n",
            "(0, 0) 1\n",
            "(0, 1) 2\n",
            "(1, 0) 3\n",
            "(1, 1) 4\n"
          ]
        }
      ]
    },
    {
      "cell_type": "code",
      "metadata": {
        "id": "CqeheeBQImb_",
        "colab": {
          "base_uri": "https://localhost:8080/"
        },
        "outputId": "441118cf-c78e-4752-af01-2409cbfb7077"
      },
      "source": [
        "x, y = np.meshgrid(np.linspace(-1,1,10), np.linspace(-1,1,10))\n",
        "D = np.sqrt(x**2+y**2)\n",
        "sigma, mu = 1.0, 0.0\n",
        "G = np.exp(-( (D-mu)**2 / ( 2.0 * sigma**2 ) ) )\n",
        "print(G)"
      ],
      "execution_count": 56,
      "outputs": [
        {
          "output_type": "stream",
          "name": "stdout",
          "text": [
            "[[0.36787944 0.44822088 0.51979489 0.57375342 0.60279818 0.60279818\n",
            "  0.57375342 0.51979489 0.44822088 0.36787944]\n",
            " [0.44822088 0.54610814 0.63331324 0.69905581 0.73444367 0.73444367\n",
            "  0.69905581 0.63331324 0.54610814 0.44822088]\n",
            " [0.51979489 0.63331324 0.73444367 0.81068432 0.85172308 0.85172308\n",
            "  0.81068432 0.73444367 0.63331324 0.51979489]\n",
            " [0.57375342 0.69905581 0.81068432 0.89483932 0.9401382  0.9401382\n",
            "  0.89483932 0.81068432 0.69905581 0.57375342]\n",
            " [0.60279818 0.73444367 0.85172308 0.9401382  0.98773022 0.98773022\n",
            "  0.9401382  0.85172308 0.73444367 0.60279818]\n",
            " [0.60279818 0.73444367 0.85172308 0.9401382  0.98773022 0.98773022\n",
            "  0.9401382  0.85172308 0.73444367 0.60279818]\n",
            " [0.57375342 0.69905581 0.81068432 0.89483932 0.9401382  0.9401382\n",
            "  0.89483932 0.81068432 0.69905581 0.57375342]\n",
            " [0.51979489 0.63331324 0.73444367 0.81068432 0.85172308 0.85172308\n",
            "  0.81068432 0.73444367 0.63331324 0.51979489]\n",
            " [0.44822088 0.54610814 0.63331324 0.69905581 0.73444367 0.73444367\n",
            "  0.69905581 0.63331324 0.54610814 0.44822088]\n",
            " [0.36787944 0.44822088 0.51979489 0.57375342 0.60279818 0.60279818\n",
            "  0.57375342 0.51979489 0.44822088 0.36787944]]\n"
          ]
        }
      ]
    },
    {
      "cell_type": "code",
      "metadata": {
        "id": "O2QpPtVVImeZ",
        "colab": {
          "base_uri": "https://localhost:8080/"
        },
        "outputId": "4b0f7b61-4d36-4fa2-f667-63ee527d0ec0"
      },
      "source": [
        "m = 5; n = 3;\n",
        "out = np.zeros((m,m),dtype=bool)\n",
        "np.put(out,np.random.choice(range(m*m), n, replace=False),1)\n",
        "print(out)"
      ],
      "execution_count": 57,
      "outputs": [
        {
          "output_type": "stream",
          "name": "stdout",
          "text": [
            "[[ True False False  True  True]\n",
            " [False False False False False]\n",
            " [False False False False False]\n",
            " [False False False False False]\n",
            " [False False False False False]]\n"
          ]
        }
      ]
    },
    {
      "cell_type": "code",
      "metadata": {
        "id": "LO-6nG0BImjM",
        "colab": {
          "base_uri": "https://localhost:8080/"
        },
        "outputId": "1d1d98a4-0a7f-4522-a1a1-66820c477e09"
      },
      "source": [
        "x = np.random.random((3, 3))\n",
        "x = x - x.mean(axis=1)\n",
        "print(x)\n"
      ],
      "execution_count": 58,
      "outputs": [
        {
          "output_type": "stream",
          "name": "stdout",
          "text": [
            "[[-0.04517952  0.58774065 -0.16786207]\n",
            " [-0.51660141  0.00758569  0.09825694]\n",
            " [-0.12381573  0.44459077 -0.28471532]]\n"
          ]
        }
      ]
    },
    {
      "cell_type": "code",
      "metadata": {
        "id": "pcWjWzlaIml1",
        "colab": {
          "base_uri": "https://localhost:8080/"
        },
        "outputId": "33c7bc90-cf51-4724-e53b-61860faf3e4e"
      },
      "source": [
        "x = np.random.randint(0,10,(3,5))\n",
        "print(x)\n",
        "print(x[x[:,1].argsort()])"
      ],
      "execution_count": 59,
      "outputs": [
        {
          "output_type": "stream",
          "name": "stdout",
          "text": [
            "[[4 7 0 2 7]\n",
            " [4 2 4 8 0]\n",
            " [9 8 9 0 9]]\n",
            "[[4 2 4 8 0]\n",
            " [4 7 0 2 7]\n",
            " [9 8 9 0 9]]\n"
          ]
        }
      ]
    },
    {
      "cell_type": "code",
      "metadata": {
        "id": "bJV_A2Y6ImoM",
        "colab": {
          "base_uri": "https://localhost:8080/"
        },
        "outputId": "3e5f1ca0-91d0-43b3-91e7-3eb21ab71d30"
      },
      "source": [
        "x = np.random.randint(0,3,(3,10))\n",
        "print((~x.any(axis=0)).any())"
      ],
      "execution_count": 60,
      "outputs": [
        {
          "output_type": "stream",
          "name": "stdout",
          "text": [
            "False\n"
          ]
        }
      ]
    },
    {
      "cell_type": "code",
      "metadata": {
        "id": "uBTBH3BIDv5n",
        "colab": {
          "base_uri": "https://localhost:8080/"
        },
        "outputId": "c0ff578d-a3be-425a-a262-04abec1ffba9"
      },
      "source": [
        "import numpy as np\n",
        "x = np.random.uniform(0,1,10)\n",
        "y = 0.5\n",
        "m = x.flat[np.abs(x - y).argmin()]\n",
        "print(m)"
      ],
      "execution_count": 61,
      "outputs": [
        {
          "output_type": "stream",
          "name": "stdout",
          "text": [
            "0.5025867388303541\n"
          ]
        }
      ]
    },
    {
      "cell_type": "code",
      "metadata": {
        "id": "o74tT8J-YbDE"
      },
      "source": [
        ""
      ],
      "execution_count": 61,
      "outputs": []
    },
    {
      "cell_type": "code",
      "metadata": {
        "colab": {
          "base_uri": "https://localhost:8080/"
        },
        "id": "ngvxjAK1YbFZ",
        "outputId": "7e4c3e82-fbdd-4921-b5d7-69bb6a028d08"
      },
      "source": [
        "import numpy as np\n",
        "a = np.arange(3).reshape(1,3)\n",
        "b = np.arange(3).reshape(3,1)\n",
        "c=np.nditer([a,b,None])\n",
        "for x,y,z in c: z[...] = x + y\n",
        "print(c.operands[2])"
      ],
      "execution_count": 62,
      "outputs": [
        {
          "output_type": "stream",
          "name": "stdout",
          "text": [
            "[[0 1 2]\n",
            " [1 2 3]\n",
            " [2 3 4]]\n"
          ]
        }
      ]
    },
    {
      "cell_type": "code",
      "metadata": {
        "colab": {
          "base_uri": "https://localhost:8080/"
        },
        "id": "M_G72aY7YbHe",
        "outputId": "3aef7cbe-29cf-4a16-85d4-c115ebb6fa4f"
      },
      "source": [
        "class NamedArray(np.ndarray):\n",
        "    def __new__(cls, array, name=\"no name\"):\n",
        "        obj = np.asarray(array).view(cls)\n",
        "        obj.name = name\n",
        "        return obj\n",
        "    def __array_finalize__(self, obj):\n",
        "        if obj is None: return\n",
        "        self.info = getattr(obj, 'name', \"no name\")\n",
        "\n",
        "Z = NamedArray(np.arange(10), \"range_10\")\n",
        "print (Z.name)"
      ],
      "execution_count": 63,
      "outputs": [
        {
          "output_type": "stream",
          "name": "stdout",
          "text": [
            "range_10\n"
          ]
        }
      ]
    },
    {
      "cell_type": "code",
      "metadata": {
        "colab": {
          "base_uri": "https://localhost:8080/"
        },
        "id": "AF1SnTk2YbJ_",
        "outputId": "5dc22b31-ddf1-4d2a-fde2-19ff30d5eee6"
      },
      "source": [
        "x = np.ones(10)\n",
        "y = np.random.randint(0,len(x),20)\n",
        "x += np.bincount(y, minlength=len(x))\n",
        "print(x)"
      ],
      "execution_count": 64,
      "outputs": [
        {
          "output_type": "stream",
          "name": "stdout",
          "text": [
            "[1. 5. 4. 1. 2. 2. 2. 4. 6. 3.]\n"
          ]
        }
      ]
    },
    {
      "cell_type": "code",
      "metadata": {
        "colab": {
          "base_uri": "https://localhost:8080/"
        },
        "id": "L9shtsGpYbMX",
        "outputId": "1cc7e6e6-e2bf-4619-e3b7-22cea63e6fa5"
      },
      "source": [
        "X = [1,2,3,4,5,6]\n",
        "I = [2,4,2,7,5,9]\n",
        "F = np.bincount(I,X)\n",
        "print(F)"
      ],
      "execution_count": 65,
      "outputs": [
        {
          "output_type": "stream",
          "name": "stdout",
          "text": [
            "[0. 0. 4. 0. 2. 5. 0. 4. 0. 6.]\n"
          ]
        }
      ]
    },
    {
      "cell_type": "code",
      "metadata": {
        "colab": {
          "base_uri": "https://localhost:8080/"
        },
        "id": "0VqZmclAYbOB",
        "outputId": "6bf7cc3c-1ea5-48fb-ecdf-deaee35af89b"
      },
      "source": [
        "w, h = 256, 256\n",
        "I = np.random.randint(0, 4, (h, w, 3)).astype(np.ubyte)\n",
        "col = np.unique(I.reshape(-1, 3), axis=0)\n",
        "print(len(col))\n"
      ],
      "execution_count": 66,
      "outputs": [
        {
          "output_type": "stream",
          "name": "stdout",
          "text": [
            "64\n"
          ]
        }
      ]
    },
    {
      "cell_type": "code",
      "metadata": {
        "colab": {
          "base_uri": "https://localhost:8080/"
        },
        "id": "8WpUCkeHYbQh",
        "outputId": "cb01257f-2189-456d-d49c-4b0ad760e15e"
      },
      "source": [
        "A = np.random.randint(0,10,(3,4,3,4))\n",
        "sum = A.reshape(A.shape[:-2] + (-1,)).sum(axis=-1)\n",
        "print(sum)"
      ],
      "execution_count": 67,
      "outputs": [
        {
          "output_type": "stream",
          "name": "stdout",
          "text": [
            "[[52 44 71 52]\n",
            " [66 61 41 73]\n",
            " [59 61 46 49]]\n"
          ]
        }
      ]
    },
    {
      "cell_type": "code",
      "metadata": {
        "colab": {
          "base_uri": "https://localhost:8080/"
        },
        "id": "u8CZSIZiYbTz",
        "outputId": "21567e78-0762-4d17-9ab0-4cb62c9032da"
      },
      "source": [
        "import pandas as pd\n",
        "D = np.random.uniform(0,1,10)\n",
        "S = np.random.randint(0,10,10)\n",
        "print(pd.Series(D).groupby(S).mean())\n",
        "\n"
      ],
      "execution_count": 68,
      "outputs": [
        {
          "output_type": "stream",
          "name": "stdout",
          "text": [
            "0    0.171282\n",
            "1    0.502775\n",
            "2    0.505826\n",
            "4    0.200892\n",
            "5    0.452843\n",
            "8    0.472496\n",
            "9    0.564916\n",
            "dtype: float64\n"
          ]
        }
      ]
    },
    {
      "cell_type": "code",
      "metadata": {
        "colab": {
          "base_uri": "https://localhost:8080/"
        },
        "id": "_9ycEB7cYbX3",
        "outputId": "bca8e335-066b-4137-c5bf-bd8f9e8be3a0"
      },
      "source": [
        "A = np.random.uniform(0,1,(5,5))\n",
        "B = np.random.uniform(0,1,(5,5))\n",
        "np.diag(np.dot(A, B))"
      ],
      "execution_count": 69,
      "outputs": [
        {
          "output_type": "execute_result",
          "data": {
            "text/plain": [
              "array([1.12123082, 1.54296419, 1.47564571, 1.80611421, 1.77053765])"
            ]
          },
          "metadata": {},
          "execution_count": 69
        }
      ]
    },
    {
      "cell_type": "code",
      "metadata": {
        "id": "O7ddcJE2Dv70",
        "colab": {
          "base_uri": "https://localhost:8080/"
        },
        "outputId": "e05d2843-6056-4f28-9ced-7ad15ce24a1c"
      },
      "source": [
        "Z = np.array([1,2,3,4,5])\n",
        "nz = 3\n",
        "Z0 = np.zeros(len(Z) + (len(Z)-1)*(nz))\n",
        "Z0[::nz+1] = Z\n",
        "print(Z0)"
      ],
      "execution_count": 70,
      "outputs": [
        {
          "output_type": "stream",
          "name": "stdout",
          "text": [
            "[1. 0. 0. 0. 2. 0. 0. 0. 3. 0. 0. 0. 4. 0. 0. 0. 5.]\n"
          ]
        }
      ]
    },
    {
      "cell_type": "code",
      "metadata": {
        "colab": {
          "base_uri": "https://localhost:8080/"
        },
        "id": "w1vvjTburwpL",
        "outputId": "419c6cb0-23d3-475a-e3c1-2937937285b6"
      },
      "source": [
        "A = np.random.uniform(0,1,(5,5,3))\n",
        "B = np.random.uniform(0,1,(5,5))\n",
        "print(A * B[:,:,None])"
      ],
      "execution_count": 71,
      "outputs": [
        {
          "output_type": "stream",
          "name": "stdout",
          "text": [
            "[[[0.30648258 0.28975181 0.26432449]\n",
            "  [0.0603525  0.04425402 0.01408382]\n",
            "  [0.24726186 0.06575743 0.15449436]\n",
            "  [0.08658913 0.05020901 0.04333455]\n",
            "  [0.00242431 0.01922682 0.00416647]]\n",
            "\n",
            " [[0.22635004 0.73717365 0.21447961]\n",
            "  [0.5565671  0.44828188 0.19016645]\n",
            "  [0.57588993 0.82462134 0.8396357 ]\n",
            "  [0.24345644 0.01928044 0.08738985]\n",
            "  [0.04024452 0.021214   0.00536782]]\n",
            "\n",
            " [[0.04643305 0.09476982 0.05978375]\n",
            "  [0.00296361 0.64160834 0.66071897]\n",
            "  [0.06008836 0.0436228  0.02347232]\n",
            "  [0.35822989 0.43955198 0.47826985]\n",
            "  [0.86449175 0.51246798 0.23078384]]\n",
            "\n",
            " [[0.50468916 0.18385525 0.21185335]\n",
            "  [0.21870181 0.18690277 0.42144196]\n",
            "  [0.38326911 0.04080215 0.26343493]\n",
            "  [0.46495593 0.17259533 0.80635185]\n",
            "  [0.00394358 0.10980458 0.02171486]]\n",
            "\n",
            " [[0.0066057  0.0071798  0.00163892]\n",
            "  [0.87580219 0.75046953 0.00954416]\n",
            "  [0.13179882 0.38815158 0.44807459]\n",
            "  [0.07324971 0.63282088 0.38214453]\n",
            "  [0.71182606 0.76273476 0.87830771]]]\n"
          ]
        }
      ]
    },
    {
      "cell_type": "code",
      "metadata": {
        "colab": {
          "base_uri": "https://localhost:8080/"
        },
        "id": "BEeGvcour_XE",
        "outputId": "7a7561c5-7e48-4208-9d39-4ab3a2bec86b"
      },
      "source": [
        "B = np.random.uniform(0,1,(5,5))\n",
        "print(B)\n",
        "B[[0,1]] = B[[1,0]]\n",
        "print(B)"
      ],
      "execution_count": 72,
      "outputs": [
        {
          "output_type": "stream",
          "name": "stdout",
          "text": [
            "[[0.89307503 0.31186459 0.37771899 0.30932965 0.58267066]\n",
            " [0.5825975  0.38689206 0.14338128 0.05721116 0.42962557]\n",
            " [0.94426798 0.38739856 0.98503231 0.53460727 0.83530726]\n",
            " [0.24868993 0.01192524 0.49227723 0.62701524 0.40954172]\n",
            " [0.27717861 0.75421319 0.75349117 0.77420241 0.66187912]]\n",
            "[[0.5825975  0.38689206 0.14338128 0.05721116 0.42962557]\n",
            " [0.89307503 0.31186459 0.37771899 0.30932965 0.58267066]\n",
            " [0.94426798 0.38739856 0.98503231 0.53460727 0.83530726]\n",
            " [0.24868993 0.01192524 0.49227723 0.62701524 0.40954172]\n",
            " [0.27717861 0.75421319 0.75349117 0.77420241 0.66187912]]\n"
          ]
        }
      ]
    },
    {
      "cell_type": "code",
      "metadata": {
        "id": "EBoJ27OSr_aC",
        "colab": {
          "base_uri": "https://localhost:8080/"
        },
        "outputId": "55a932e1-3cae-43ea-d671-d5b845e1bb1f"
      },
      "source": [
        "# copied I have no idea how to solve\n",
        "faces = np.random.randint(0,100,(10,3))\n",
        "F = np.roll(faces.repeat(2,axis=1),-1,axis=1)\n",
        "F = F.reshape(len(F)*3,2)\n",
        "F = np.sort(F,axis=1)\n",
        "G = F.view( dtype=[('p0',F.dtype),('p1',F.dtype)] )\n",
        "G = np.unique(G)\n",
        "print(G)"
      ],
      "execution_count": 73,
      "outputs": [
        {
          "output_type": "stream",
          "name": "stdout",
          "text": [
            "[( 0, 18) ( 0, 76) ( 2, 28) ( 2, 45) ( 5, 59) ( 5, 88) ( 7, 38) ( 7, 74)\n",
            " (11, 71) (11, 81) (18, 76) (22, 42) (22, 57) (28, 45) (30, 67) (30, 82)\n",
            " (38, 74) (38, 81) (38, 95) (39, 42) (39, 43) (42, 43) (42, 57) (59, 88)\n",
            " (62, 77) (62, 80) (67, 82) (71, 81) (77, 80) (81, 95)]\n"
          ]
        }
      ]
    },
    {
      "cell_type": "code",
      "metadata": {
        "id": "zyCCBvcur_cd",
        "colab": {
          "base_uri": "https://localhost:8080/"
        },
        "outputId": "1971a068-8b5c-4bee-ede0-91738c16e91e"
      },
      "source": [
        "C = np.bincount([1,2,3,4,4,6,7])\n",
        "A = np.repeat(np.arange(len(C)),C)\n",
        "print(A)\n",
        "\n",
        "\n",
        "\n",
        "\n"
      ],
      "execution_count": 74,
      "outputs": [
        {
          "output_type": "stream",
          "name": "stdout",
          "text": [
            "[1 2 3 4 4 6 7]\n"
          ]
        }
      ]
    },
    {
      "cell_type": "code",
      "metadata": {
        "colab": {
          "base_uri": "https://localhost:8080/"
        },
        "id": "zy-1poCLYshg",
        "outputId": "e48910d7-b64b-495d-c235-00729184c376"
      },
      "source": [
        "def mavg(a, n) :\n",
        "    sum = np.cumsum(a)\n",
        "    sum=np.cumsum(a, dtype=float)     # specifies type of output value(s)\n",
        "    sum[n:] = sum[n:] - sum[:-n]\n",
        "    return sum[n - 1:] / n\n",
        "x = np.arange(20)\n",
        "print(mavg(x, n=2))"
      ],
      "execution_count": 77,
      "outputs": [
        {
          "output_type": "stream",
          "name": "stdout",
          "text": [
            "[ 0.5  1.5  2.5  3.5  4.5  5.5  6.5  7.5  8.5  9.5 10.5 11.5 12.5 13.5\n",
            " 14.5 15.5 16.5 17.5 18.5]\n"
          ]
        }
      ]
    },
    {
      "cell_type": "code",
      "metadata": {
        "colab": {
          "base_uri": "https://localhost:8080/"
        },
        "id": "hCmfxeNeYsr-",
        "outputId": "ea22f213-e91f-4d83-87df-6688a34d4ce3"
      },
      "source": [
        "from numpy.lib import stride_tricks\n",
        "\n",
        "def rolling(a, window):\n",
        "    shape = (a.size - window + 1, window)\n",
        "    strides = (a.strides[0], a.strides[0])\n",
        "    return stride_tricks.as_strided(a, shape=shape, strides=strides)\n",
        "Z = rolling(np.arange(10), 3)\n",
        "print(Z)"
      ],
      "execution_count": 79,
      "outputs": [
        {
          "output_type": "stream",
          "name": "stdout",
          "text": [
            "[[0 1 2]\n",
            " [1 2 3]\n",
            " [2 3 4]\n",
            " [3 4 5]\n",
            " [4 5 6]\n",
            " [5 6 7]\n",
            " [6 7 8]\n",
            " [7 8 9]]\n"
          ]
        }
      ]
    },
    {
      "cell_type": "code",
      "metadata": {
        "colab": {
          "base_uri": "https://localhost:8080/"
        },
        "id": "-v40mA-OYsuj",
        "outputId": "86e0e008-3d62-4817-8cb5-68d553eabffe"
      },
      "source": [
        "Z = np.random.randint(0,2,10)\n",
        "np.logical_not(Z, out=Z)\n",
        "\n",
        "Z = np.random.uniform(-1.0,1.0,10)\n",
        "np.negative(Z, out=Z)"
      ],
      "execution_count": 80,
      "outputs": [
        {
          "output_type": "execute_result",
          "data": {
            "text/plain": [
              "array([ 0.28366857,  0.86965356,  0.71622588, -0.71921844,  0.37066121,\n",
              "        0.64974627,  0.8902217 ,  0.97497634, -0.69570579, -0.01181504])"
            ]
          },
          "metadata": {},
          "execution_count": 80
        }
      ]
    },
    {
      "cell_type": "code",
      "metadata": {
        "colab": {
          "base_uri": "https://localhost:8080/"
        },
        "id": "nAbloK4uYsyg",
        "outputId": "9fb8f005-6026-492c-e84f-bc2b294c84b7"
      },
      "source": [
        "def distance(P0, P1, p):\n",
        "    T = P1 - P0\n",
        "    L = (T**2).sum(axis=1)\n",
        "    U = -((P0[:,0]-p[...,0])*T[:,0] + (P0[:,1]-p[...,1])*T[:,1]) / L\n",
        "    U = U.reshape(len(U),1)\n",
        "    D = P0 + U*T - p\n",
        "    return np.sqrt((D**2).sum(axis=1))\n",
        "\n",
        "P0 = np.random.uniform(-10,10,(10,2))\n",
        "P1 = np.random.uniform(-10,10,(10,2))\n",
        "p  = np.random.uniform(-10,10,( 1,2))\n",
        "print(distance(P0, P1, p))"
      ],
      "execution_count": 81,
      "outputs": [
        {
          "output_type": "stream",
          "name": "stdout",
          "text": [
            "[ 8.30521791  6.42522055  3.74071762 13.46805373 17.28339977 11.60898401\n",
            "  1.81306034  2.73535896  3.98494896  1.40675585]\n"
          ]
        }
      ]
    },
    {
      "cell_type": "code",
      "metadata": {
        "colab": {
          "base_uri": "https://localhost:8080/"
        },
        "id": "rb_IlNfIYs1P",
        "outputId": "f088dad1-20e2-409b-9b85-80c77c3e75a7"
      },
      "source": [
        "P0 = np.random.uniform(-10, 10, (10,2))\n",
        "P1 = np.random.uniform(-10,10,(10,2))\n",
        "p = np.random.uniform(-10, 10, (10,2))\n",
        "print(np.array([distance(P0,P1,p_i) for p_i in p]))"
      ],
      "execution_count": 82,
      "outputs": [
        {
          "output_type": "stream",
          "name": "stdout",
          "text": [
            "[[ 5.74038805  0.22112106 11.43048605 10.27907914  2.17106489  2.93250439\n",
            "   6.99812708  7.46875251  6.17648934 15.60963947]\n",
            " [ 0.91167926  5.34839313  6.00208288  4.74978063  1.26179033  2.85106021\n",
            "   2.87543285  9.44033855  6.8302139  10.33366899]\n",
            " [ 4.28822891  3.34390055 14.27062831 10.79302267  1.15381762  2.40227948\n",
            "   4.45808513  1.92530615  0.6810989  18.86683499]\n",
            " [10.93466878  6.15567777  2.99392732  3.79783768 14.96787829  9.5889371\n",
            "  10.23580497  0.13296472  4.68599188  8.5551193 ]\n",
            " [ 9.61679336 12.55861974  2.35773155  5.61440683 10.52853352  1.45377609\n",
            "   7.12419598  8.96986642  3.83167077  2.59472985]\n",
            " [ 0.08975518  5.17744977  5.99213606  4.25346627  2.31462624  1.75195743\n",
            "   1.90796678  8.52187256  5.77824301 10.42553146]\n",
            " [10.54273681  6.86316754  2.45044478  3.82798765 14.1848378   8.41393562\n",
            "   9.61510177  1.32308503  3.48667938  7.91758886]\n",
            " [ 3.9709553   6.13138355  5.91060621  6.53456822  2.72282438  7.09458568\n",
            "   6.51378442 13.03525081 10.9092764   9.85258398]\n",
            " [ 0.76476897  2.05518767  8.85771358  6.05174186  2.91456899  0.73793866\n",
            "   1.87185575  5.35587541  3.00578736 13.44465015]\n",
            " [ 3.38893497  6.11191401  5.81460065  6.1398215   2.02288935  6.42191263\n",
            "   5.85456438 12.50692107 10.27757039  9.82128806]]\n"
          ]
        }
      ]
    },
    {
      "cell_type": "code",
      "metadata": {
        "colab": {
          "base_uri": "https://localhost:8080/"
        },
        "id": "YURHxvHyYs3w",
        "outputId": "e5de558c-43c1-4af0-a922-8791eeef7dc6"
      },
      "source": [
        "Z = np.arange(1,15,dtype=np.uint32)\n",
        "R = stride_tricks.as_strided(Z,(11,4),(4,4))\n",
        "print(R)"
      ],
      "execution_count": 83,
      "outputs": [
        {
          "output_type": "stream",
          "name": "stdout",
          "text": [
            "[[ 1  2  3  4]\n",
            " [ 2  3  4  5]\n",
            " [ 3  4  5  6]\n",
            " [ 4  5  6  7]\n",
            " [ 5  6  7  8]\n",
            " [ 6  7  8  9]\n",
            " [ 7  8  9 10]\n",
            " [ 8  9 10 11]\n",
            " [ 9 10 11 12]\n",
            " [10 11 12 13]\n",
            " [11 12 13 14]]\n"
          ]
        }
      ]
    },
    {
      "cell_type": "code",
      "metadata": {
        "colab": {
          "base_uri": "https://localhost:8080/"
        },
        "id": "JpPkGoNPYs6_",
        "outputId": "c64407a4-6f3b-453b-bbfd-9e8b7b6adfe7"
      },
      "source": [
        "Z = np.random.uniform(0,1,(10,10))\n",
        "U, S, V = np.linalg.svd(Z) # Singular Value Decomposition\n",
        "rank = np.sum(S > 1e-10)\n",
        "print(rank)"
      ],
      "execution_count": 84,
      "outputs": [
        {
          "output_type": "stream",
          "name": "stdout",
          "text": [
            "10\n"
          ]
        }
      ]
    },
    {
      "cell_type": "code",
      "metadata": {
        "colab": {
          "base_uri": "https://localhost:8080/"
        },
        "id": "uuhJ3HPLYs94",
        "outputId": "d49fb5b3-e427-4eb6-dd79-1abc2f0eddc9"
      },
      "source": [
        "Z = np.random.randint(0,10,50)\n",
        "print(np.bincount(Z).argmax())"
      ],
      "execution_count": 85,
      "outputs": [
        {
          "output_type": "stream",
          "name": "stdout",
          "text": [
            "9\n"
          ]
        }
      ]
    },
    {
      "cell_type": "code",
      "metadata": {
        "colab": {
          "base_uri": "https://localhost:8080/"
        },
        "id": "5wywnWIsYtAL",
        "outputId": "d4fbaf34-8a8f-4405-e13b-ca047cb86d7c"
      },
      "source": [
        "Z = np.random.randint(0,5,(10,10))\n",
        "n = 3\n",
        "i = 1 + (Z.shape[0]-3)\n",
        "j = 1 + (Z.shape[1]-3)\n",
        "C = stride_tricks.as_strided(Z, shape=(i, j, n, n), strides=Z.strides + Z.strides)\n",
        "print(C)"
      ],
      "execution_count": 86,
      "outputs": [
        {
          "output_type": "stream",
          "name": "stdout",
          "text": [
            "[[[[0 3 3]\n",
            "   [4 3 4]\n",
            "   [1 4 1]]\n",
            "\n",
            "  [[3 3 4]\n",
            "   [3 4 3]\n",
            "   [4 1 1]]\n",
            "\n",
            "  [[3 4 2]\n",
            "   [4 3 2]\n",
            "   [1 1 2]]\n",
            "\n",
            "  [[4 2 2]\n",
            "   [3 2 2]\n",
            "   [1 2 4]]\n",
            "\n",
            "  [[2 2 3]\n",
            "   [2 2 4]\n",
            "   [2 4 2]]\n",
            "\n",
            "  [[2 3 1]\n",
            "   [2 4 3]\n",
            "   [4 2 3]]\n",
            "\n",
            "  [[3 1 1]\n",
            "   [4 3 1]\n",
            "   [2 3 1]]\n",
            "\n",
            "  [[1 1 2]\n",
            "   [3 1 0]\n",
            "   [3 1 0]]]\n",
            "\n",
            "\n",
            " [[[4 3 4]\n",
            "   [1 4 1]\n",
            "   [4 3 3]]\n",
            "\n",
            "  [[3 4 3]\n",
            "   [4 1 1]\n",
            "   [3 3 1]]\n",
            "\n",
            "  [[4 3 2]\n",
            "   [1 1 2]\n",
            "   [3 1 2]]\n",
            "\n",
            "  [[3 2 2]\n",
            "   [1 2 4]\n",
            "   [1 2 4]]\n",
            "\n",
            "  [[2 2 4]\n",
            "   [2 4 2]\n",
            "   [2 4 0]]\n",
            "\n",
            "  [[2 4 3]\n",
            "   [4 2 3]\n",
            "   [4 0 0]]\n",
            "\n",
            "  [[4 3 1]\n",
            "   [2 3 1]\n",
            "   [0 0 2]]\n",
            "\n",
            "  [[3 1 0]\n",
            "   [3 1 0]\n",
            "   [0 2 1]]]\n",
            "\n",
            "\n",
            " [[[1 4 1]\n",
            "   [4 3 3]\n",
            "   [4 4 4]]\n",
            "\n",
            "  [[4 1 1]\n",
            "   [3 3 1]\n",
            "   [4 4 1]]\n",
            "\n",
            "  [[1 1 2]\n",
            "   [3 1 2]\n",
            "   [4 1 4]]\n",
            "\n",
            "  [[1 2 4]\n",
            "   [1 2 4]\n",
            "   [1 4 3]]\n",
            "\n",
            "  [[2 4 2]\n",
            "   [2 4 0]\n",
            "   [4 3 1]]\n",
            "\n",
            "  [[4 2 3]\n",
            "   [4 0 0]\n",
            "   [3 1 0]]\n",
            "\n",
            "  [[2 3 1]\n",
            "   [0 0 2]\n",
            "   [1 0 3]]\n",
            "\n",
            "  [[3 1 0]\n",
            "   [0 2 1]\n",
            "   [0 3 4]]]\n",
            "\n",
            "\n",
            " [[[4 3 3]\n",
            "   [4 4 4]\n",
            "   [0 3 3]]\n",
            "\n",
            "  [[3 3 1]\n",
            "   [4 4 1]\n",
            "   [3 3 1]]\n",
            "\n",
            "  [[3 1 2]\n",
            "   [4 1 4]\n",
            "   [3 1 0]]\n",
            "\n",
            "  [[1 2 4]\n",
            "   [1 4 3]\n",
            "   [1 0 2]]\n",
            "\n",
            "  [[2 4 0]\n",
            "   [4 3 1]\n",
            "   [0 2 3]]\n",
            "\n",
            "  [[4 0 0]\n",
            "   [3 1 0]\n",
            "   [2 3 0]]\n",
            "\n",
            "  [[0 0 2]\n",
            "   [1 0 3]\n",
            "   [3 0 4]]\n",
            "\n",
            "  [[0 2 1]\n",
            "   [0 3 4]\n",
            "   [0 4 3]]]\n",
            "\n",
            "\n",
            " [[[4 4 4]\n",
            "   [0 3 3]\n",
            "   [0 4 3]]\n",
            "\n",
            "  [[4 4 1]\n",
            "   [3 3 1]\n",
            "   [4 3 0]]\n",
            "\n",
            "  [[4 1 4]\n",
            "   [3 1 0]\n",
            "   [3 0 0]]\n",
            "\n",
            "  [[1 4 3]\n",
            "   [1 0 2]\n",
            "   [0 0 4]]\n",
            "\n",
            "  [[4 3 1]\n",
            "   [0 2 3]\n",
            "   [0 4 3]]\n",
            "\n",
            "  [[3 1 0]\n",
            "   [2 3 0]\n",
            "   [4 3 0]]\n",
            "\n",
            "  [[1 0 3]\n",
            "   [3 0 4]\n",
            "   [3 0 2]]\n",
            "\n",
            "  [[0 3 4]\n",
            "   [0 4 3]\n",
            "   [0 2 4]]]\n",
            "\n",
            "\n",
            " [[[0 3 3]\n",
            "   [0 4 3]\n",
            "   [3 3 3]]\n",
            "\n",
            "  [[3 3 1]\n",
            "   [4 3 0]\n",
            "   [3 3 2]]\n",
            "\n",
            "  [[3 1 0]\n",
            "   [3 0 0]\n",
            "   [3 2 4]]\n",
            "\n",
            "  [[1 0 2]\n",
            "   [0 0 4]\n",
            "   [2 4 1]]\n",
            "\n",
            "  [[0 2 3]\n",
            "   [0 4 3]\n",
            "   [4 1 0]]\n",
            "\n",
            "  [[2 3 0]\n",
            "   [4 3 0]\n",
            "   [1 0 0]]\n",
            "\n",
            "  [[3 0 4]\n",
            "   [3 0 2]\n",
            "   [0 0 1]]\n",
            "\n",
            "  [[0 4 3]\n",
            "   [0 2 4]\n",
            "   [0 1 0]]]\n",
            "\n",
            "\n",
            " [[[0 4 3]\n",
            "   [3 3 3]\n",
            "   [2 1 0]]\n",
            "\n",
            "  [[4 3 0]\n",
            "   [3 3 2]\n",
            "   [1 0 4]]\n",
            "\n",
            "  [[3 0 0]\n",
            "   [3 2 4]\n",
            "   [0 4 2]]\n",
            "\n",
            "  [[0 0 4]\n",
            "   [2 4 1]\n",
            "   [4 2 2]]\n",
            "\n",
            "  [[0 4 3]\n",
            "   [4 1 0]\n",
            "   [2 2 0]]\n",
            "\n",
            "  [[4 3 0]\n",
            "   [1 0 0]\n",
            "   [2 0 4]]\n",
            "\n",
            "  [[3 0 2]\n",
            "   [0 0 1]\n",
            "   [0 4 4]]\n",
            "\n",
            "  [[0 2 4]\n",
            "   [0 1 0]\n",
            "   [4 4 2]]]\n",
            "\n",
            "\n",
            " [[[3 3 3]\n",
            "   [2 1 0]\n",
            "   [4 2 1]]\n",
            "\n",
            "  [[3 3 2]\n",
            "   [1 0 4]\n",
            "   [2 1 1]]\n",
            "\n",
            "  [[3 2 4]\n",
            "   [0 4 2]\n",
            "   [1 1 0]]\n",
            "\n",
            "  [[2 4 1]\n",
            "   [4 2 2]\n",
            "   [1 0 1]]\n",
            "\n",
            "  [[4 1 0]\n",
            "   [2 2 0]\n",
            "   [0 1 2]]\n",
            "\n",
            "  [[1 0 0]\n",
            "   [2 0 4]\n",
            "   [1 2 0]]\n",
            "\n",
            "  [[0 0 1]\n",
            "   [0 4 4]\n",
            "   [2 0 1]]\n",
            "\n",
            "  [[0 1 0]\n",
            "   [4 4 2]\n",
            "   [0 1 4]]]]\n"
          ]
        }
      ]
    },
    {
      "cell_type": "code",
      "metadata": {
        "colab": {
          "base_uri": "https://localhost:8080/"
        },
        "id": "p-fW5X3ZYtCd",
        "outputId": "2ebcb44e-fc5e-4f45-899b-e0470248d8d1"
      },
      "source": [
        "p, n = 5, 10\n",
        "M = np.ones((p,n,n))\n",
        "V = np.ones((p,n,1))\n",
        "S = np.tensordot(M, V, axes=[[0, 2], [0, 1]])\n",
        "print(S)"
      ],
      "execution_count": 87,
      "outputs": [
        {
          "output_type": "stream",
          "name": "stdout",
          "text": [
            "[[50.]\n",
            " [50.]\n",
            " [50.]\n",
            " [50.]\n",
            " [50.]\n",
            " [50.]\n",
            " [50.]\n",
            " [50.]\n",
            " [50.]\n",
            " [50.]]\n"
          ]
        }
      ]
    },
    {
      "cell_type": "code",
      "metadata": {
        "colab": {
          "base_uri": "https://localhost:8080/"
        },
        "id": "yx8x_eSlYtFU",
        "outputId": "70d75518-a164-4534-a557-1c3e8a610ad9"
      },
      "source": [
        "Z = np.ones((10,10))\n",
        "k = 5\n",
        "S = np.add.reduceat(np.add.reduceat(Z, np.arange(0, Z.shape[0], k), axis=0),\n",
        "                                       np.arange(0, Z.shape[1], k), axis=1)\n",
        "print ('input array')\n",
        "print (Z)\n",
        "print ('block sum')\n",
        "print (S)"
      ],
      "execution_count": 88,
      "outputs": [
        {
          "output_type": "stream",
          "name": "stdout",
          "text": [
            "input array\n",
            "[[1. 1. 1. 1. 1. 1. 1. 1. 1. 1.]\n",
            " [1. 1. 1. 1. 1. 1. 1. 1. 1. 1.]\n",
            " [1. 1. 1. 1. 1. 1. 1. 1. 1. 1.]\n",
            " [1. 1. 1. 1. 1. 1. 1. 1. 1. 1.]\n",
            " [1. 1. 1. 1. 1. 1. 1. 1. 1. 1.]\n",
            " [1. 1. 1. 1. 1. 1. 1. 1. 1. 1.]\n",
            " [1. 1. 1. 1. 1. 1. 1. 1. 1. 1.]\n",
            " [1. 1. 1. 1. 1. 1. 1. 1. 1. 1.]\n",
            " [1. 1. 1. 1. 1. 1. 1. 1. 1. 1.]\n",
            " [1. 1. 1. 1. 1. 1. 1. 1. 1. 1.]]\n",
            "block sum\n",
            "[[25. 25.]\n",
            " [25. 25.]]\n"
          ]
        }
      ]
    },
    {
      "cell_type": "code",
      "metadata": {
        "colab": {
          "base_uri": "https://localhost:8080/"
        },
        "id": "5k7n0mZgYtHs",
        "outputId": "26cd4995-1386-48e3-824d-06ae8cb7ba41"
      },
      "source": [
        "def iterate(Z):\n",
        "    # Count neighbours\n",
        "    N = (Z[0:-2,0:-2] + Z[0:-2,1:-1] + Z[0:-2,2:] +\n",
        "         Z[1:-1,0:-2]                + Z[1:-1,2:] +\n",
        "         Z[2:  ,0:-2] + Z[2:  ,1:-1] + Z[2:  ,2:])\n",
        "\n",
        "    # Apply rules\n",
        "    birth = (N==3) & (Z[1:-1,1:-1]==0)\n",
        "    survive = ((N==2) | (N==3)) & (Z[1:-1,1:-1]==1)\n",
        "    Z[...] = 0\n",
        "    Z[1:-1,1:-1][birth | survive] = 1\n",
        "    return Z\n",
        "\n",
        "Z = np.random.randint(0,2,(50,50))\n",
        "for i in range(100): Z = iterate(Z)\n",
        "print(Z)"
      ],
      "execution_count": 89,
      "outputs": [
        {
          "output_type": "stream",
          "name": "stdout",
          "text": [
            "[[0 0 0 ... 0 0 0]\n",
            " [0 0 0 ... 1 0 0]\n",
            " [0 0 0 ... 0 1 0]\n",
            " ...\n",
            " [0 1 1 ... 0 0 0]\n",
            " [0 0 0 ... 0 0 0]\n",
            " [0 0 0 ... 0 0 0]]\n"
          ]
        }
      ]
    },
    {
      "cell_type": "code",
      "metadata": {
        "colab": {
          "base_uri": "https://localhost:8080/"
        },
        "id": "ZViupboJYtKL",
        "outputId": "240fe304-4923-4c76-818b-a1b87284c76c"
      },
      "source": [
        "Z = np.arange(100)\n",
        "np.random.shuffle(Z)\n",
        "n = 5\n",
        "\n",
        "# Fast\n",
        "print (Z[np.argpartition(-Z,n)[:n]])"
      ],
      "execution_count": 90,
      "outputs": [
        {
          "output_type": "stream",
          "name": "stdout",
          "text": [
            "[97 96 98 99 95]\n"
          ]
        }
      ]
    },
    {
      "cell_type": "code",
      "metadata": {
        "id": "Mv0K4CDMYtMk"
      },
      "source": [
        "# 90"
      ],
      "execution_count": 91,
      "outputs": []
    },
    {
      "cell_type": "code",
      "metadata": {
        "id": "cnBB7k3TYtPD"
      },
      "source": [
        "Z = np.array([(\"Hello\", 2.5, 3),\n",
        "              (\"World\", 3.6, 2)])\n",
        "R = np.core.records.fromarrays(Z.T,\n",
        "                               names='col1, col2, col3',\n",
        "                               formats = 'S8, f8, i8')\n"
      ],
      "execution_count": 92,
      "outputs": []
    },
    {
      "cell_type": "code",
      "metadata": {
        "colab": {
          "base_uri": "https://localhost:8080/"
        },
        "id": "V7GtqhEoYtRf",
        "outputId": "67737fc8-a4a6-4b10-8c25-2a97f14df21d"
      },
      "source": [
        "x = np.random.rand(int(5e7))\n",
        "\n",
        "%timeit np.power(x,3)\n",
        "%timeit x*x*x\n",
        "%timeit np.einsum('i,i,i->i',x,x,x)"
      ],
      "execution_count": 93,
      "outputs": [
        {
          "output_type": "stream",
          "name": "stdout",
          "text": [
            "1 loop, best of 5: 3.72 s per loop\n",
            "10 loops, best of 5: 144 ms per loop\n",
            "10 loops, best of 5: 122 ms per loop\n"
          ]
        }
      ]
    },
    {
      "cell_type": "code",
      "metadata": {
        "colab": {
          "base_uri": "https://localhost:8080/"
        },
        "id": "LQp4aE4JYtTw",
        "outputId": "c71a9624-6d85-4735-94d6-b514b0021574"
      },
      "source": [
        "A = np.random.randint(0,5,(8,3))\n",
        "B = np.random.randint(0,5,(2,2))\n",
        "\n",
        "C = (A[..., np.newaxis, np.newaxis] == B)\n",
        "rows = np.where(C.any((3,1)).all(1))[0]\n",
        "print(rows)"
      ],
      "execution_count": 94,
      "outputs": [
        {
          "output_type": "stream",
          "name": "stdout",
          "text": [
            "[0 1 2 6 7]\n"
          ]
        }
      ]
    },
    {
      "cell_type": "code",
      "metadata": {
        "colab": {
          "base_uri": "https://localhost:8080/"
        },
        "id": "WT4WXOkLYtWK",
        "outputId": "811c6a7f-4c9c-4e2d-e7af-3c3a5fafcc81"
      },
      "source": [
        "Z = np.random.randint(0,5,(10,3))\n",
        "print(Z)\n",
        "# solution for arrays of all dtypes (including string arrays and record arrays)\n",
        "E = np.all(Z[:,1:] == Z[:,:-1], axis=1)\n",
        "U = Z[~E]\n",
        "print(U)\n"
      ],
      "execution_count": 95,
      "outputs": [
        {
          "output_type": "stream",
          "name": "stdout",
          "text": [
            "[[0 4 0]\n",
            " [1 1 2]\n",
            " [0 2 1]\n",
            " [2 4 4]\n",
            " [4 0 4]\n",
            " [4 3 1]\n",
            " [4 4 1]\n",
            " [1 3 3]\n",
            " [4 0 0]\n",
            " [1 1 0]]\n",
            "[[0 4 0]\n",
            " [1 1 2]\n",
            " [0 2 1]\n",
            " [2 4 4]\n",
            " [4 0 4]\n",
            " [4 3 1]\n",
            " [4 4 1]\n",
            " [1 3 3]\n",
            " [4 0 0]\n",
            " [1 1 0]]\n"
          ]
        }
      ]
    },
    {
      "cell_type": "code",
      "metadata": {
        "colab": {
          "base_uri": "https://localhost:8080/"
        },
        "id": "Y7hMP5-sjgBw",
        "outputId": "ac06e5e8-cba3-4a18-cba6-f0a164ca0edd"
      },
      "source": [
        "I = np.array([0, 1, 2, 3, 15, 16, 32, 64, 128])\n",
        "B = ((I.reshape(-1,1) & (2**np.arange(8))) != 0).astype(int)\n",
        "print(B[:,::-1])\n"
      ],
      "execution_count": 96,
      "outputs": [
        {
          "output_type": "stream",
          "name": "stdout",
          "text": [
            "[[0 0 0 0 0 0 0 0]\n",
            " [0 0 0 0 0 0 0 1]\n",
            " [0 0 0 0 0 0 1 0]\n",
            " [0 0 0 0 0 0 1 1]\n",
            " [0 0 0 0 1 1 1 1]\n",
            " [0 0 0 1 0 0 0 0]\n",
            " [0 0 1 0 0 0 0 0]\n",
            " [0 1 0 0 0 0 0 0]\n",
            " [1 0 0 0 0 0 0 0]]\n"
          ]
        }
      ]
    },
    {
      "cell_type": "code",
      "metadata": {
        "colab": {
          "base_uri": "https://localhost:8080/"
        },
        "id": "GAVbi740jgE8",
        "outputId": "76835503-7447-46ad-b9da-48ff33f5871f"
      },
      "source": [
        "Z = np.random.randint(0,2,(6,3))\n",
        "T = np.ascontiguousarray(Z).view(np.dtype((np.void, Z.dtype.itemsize * Z.shape[1])))\n",
        "_, idx = np.unique(T, return_index=True)\n",
        "uZ = Z[idx]\n",
        "print(uZ)"
      ],
      "execution_count": 97,
      "outputs": [
        {
          "output_type": "stream",
          "name": "stdout",
          "text": [
            "[[0 1 0]\n",
            " [0 1 1]\n",
            " [1 1 0]]\n"
          ]
        }
      ]
    },
    {
      "cell_type": "markdown",
      "metadata": {
        "id": "1zmNhLCOkIhA"
      },
      "source": [
        ""
      ]
    },
    {
      "cell_type": "code",
      "metadata": {
        "colab": {
          "base_uri": "https://localhost:8080/"
        },
        "id": "CjAliE8IjgIH",
        "outputId": "eb31df2f-3d2d-46f5-c476-3080f7e2f585"
      },
      "source": [
        "A = np.random.uniform(0,1,10)\n",
        "B = np.random.uniform(0,1,10)\n",
        "\n",
        "np.einsum('i->', A)       \n",
        "np.einsum('i,i->i', A, B) \n",
        "np.einsum('i,i', A, B)    \n",
        "np.einsum('i,j->ij', A, B)   "
      ],
      "execution_count": 98,
      "outputs": [
        {
          "output_type": "execute_result",
          "data": {
            "text/plain": [
              "array([[2.60456374e-01, 5.29875465e-02, 2.70159606e-01, 2.99129094e-01,\n",
              "        4.15501254e-01, 4.49033885e-01, 5.24174023e-01, 4.66510878e-01,\n",
              "        4.47111836e-01, 5.43117789e-03],\n",
              "       [6.24412065e-02, 1.27031114e-02, 6.47674368e-02, 7.17125144e-02,\n",
              "        9.96113061e-02, 1.07650341e-01, 1.25664263e-01, 1.11840235e-01,\n",
              "        1.07189554e-01, 1.30205798e-03],\n",
              "       [3.01964167e-01, 6.14319400e-02, 3.13213761e-01, 3.46799989e-01,\n",
              "        4.81717872e-01, 5.20594451e-01, 6.07709344e-01, 5.40856676e-01,\n",
              "        5.18366094e-01, 6.29672096e-03],\n",
              "       [4.11129411e-01, 8.36406436e-02, 4.26445927e-01, 4.72174154e-01,\n",
              "        6.55867173e-01, 7.08798305e-01, 8.27406732e-01, 7.36385673e-01,\n",
              "        7.05764359e-01, 8.57309395e-03],\n",
              "       [2.25903320e-01, 4.59580331e-02, 2.34319287e-01, 2.59445581e-01,\n",
              "        3.60379404e-01, 3.89463478e-01, 4.54635262e-01, 4.04621912e-01,\n",
              "        3.87796415e-01, 4.71065882e-03],\n",
              "       [1.57884398e-01, 3.21201848e-02, 1.63766338e-01, 1.81327168e-01,\n",
              "        2.51870070e-01, 2.72197003e-01, 3.17745727e-01, 2.82791270e-01,\n",
              "        2.71031888e-01, 3.29229128e-03],\n",
              "       [2.63203785e-01, 5.35464829e-02, 2.73009371e-01, 3.02284441e-01,\n",
              "        4.19884147e-01, 4.53770495e-01, 5.29703245e-01, 4.71431843e-01,\n",
              "        4.51828172e-01, 5.48846838e-03],\n",
              "       [4.56731364e-03, 9.29179578e-04, 4.73746768e-03, 5.24547112e-03,\n",
              "        7.28615129e-03, 7.87417315e-03, 9.19181637e-03, 8.18064638e-03,\n",
              "        7.84046846e-03, 9.52401066e-05],\n",
              "       [3.55285769e-01, 7.22797484e-02, 3.68521845e-01, 4.08038814e-01,\n",
              "        5.66780840e-01, 6.12522345e-01, 7.15020208e-01, 6.36362525e-01,\n",
              "        6.09900499e-01, 7.40861197e-03],\n",
              "       [3.27615467e-01, 6.66504702e-02, 3.39820693e-01, 3.76260009e-01,\n",
              "        5.22638918e-01, 5.64817991e-01, 6.59333134e-01, 5.86801454e-01,\n",
              "        5.62400339e-01, 6.83161580e-03]])"
            ]
          },
          "metadata": {},
          "execution_count": 98
        }
      ]
    },
    {
      "cell_type": "code",
      "metadata": {
        "id": "7UUpdPrgjgbD"
      },
      "source": [
        "phi = np.arange(0, 10*np.pi, 0.1)\n",
        "a = 1\n",
        "x = a*phi*np.cos(phi)\n",
        "y = a*phi*np.sin(phi)\n",
        "\n",
        "dr = (np.diff(x)**2 + np.diff(y)**2)**.5 \n",
        "r = np.zeros_like(x)\n",
        "r[1:] = np.cumsum(dr)              \n",
        "r_int = np.linspace(0, r.max(), 200) \n",
        "x_int = np.interp(r_int, r, x)     \n",
        "y_int = np.interp(r_int, r, y)"
      ],
      "execution_count": 99,
      "outputs": []
    },
    {
      "cell_type": "code",
      "metadata": {
        "colab": {
          "base_uri": "https://localhost:8080/"
        },
        "id": "WOvt6JRRjgdv",
        "outputId": "b7597569-f3d8-41ea-cbf5-e4cc17b4c7a1"
      },
      "source": [
        "X = np.asarray([[1.0, 0.0, 3.0, 8.0],\n",
        "                [2.0, 0.0, 1.0, 1.0],\n",
        "                [1.5, 2.5, 1.0, 0.0]])\n",
        "n = 4\n",
        "M = np.logical_and.reduce(np.mod(X, 1) == 0, axis=-1)\n",
        "M &= (X.sum(axis=-1) == n)\n",
        "print(X[M])"
      ],
      "execution_count": 100,
      "outputs": [
        {
          "output_type": "stream",
          "name": "stdout",
          "text": [
            "[[2. 0. 1. 1.]]\n"
          ]
        }
      ]
    },
    {
      "cell_type": "code",
      "metadata": {
        "colab": {
          "base_uri": "https://localhost:8080/"
        },
        "id": "RXb3MHo8jggh",
        "outputId": "5c07eaa5-f9e2-498e-dd36-04968849364e"
      },
      "source": [
        "X = np.random.randn(10) \n",
        "N = 100 \n",
        "idx = np.random.randint(0, X.size, (N, X.size))\n",
        "means = X[idx].mean(axis=1)\n",
        "confint = np.percentile(means, [2.5, 97.5])\n",
        "print(confint)"
      ],
      "execution_count": 101,
      "outputs": [
        {
          "output_type": "stream",
          "name": "stdout",
          "text": [
            "[-0.57331255  0.48674526]\n"
          ]
        }
      ]
    },
    {
      "cell_type": "code",
      "metadata": {
        "id": "XwT4oyDoYtZ5"
      },
      "source": [
        ""
      ],
      "execution_count": 101,
      "outputs": []
    },
    {
      "cell_type": "code",
      "metadata": {
        "id": "HIMPqUfVYtcS"
      },
      "source": [
        ""
      ],
      "execution_count": 101,
      "outputs": []
    },
    {
      "cell_type": "code",
      "metadata": {
        "id": "R99e7eAWr_fC"
      },
      "source": [
        ""
      ],
      "execution_count": 101,
      "outputs": []
    },
    {
      "cell_type": "code",
      "metadata": {
        "id": "ziEBD-M5r_i0"
      },
      "source": [
        ""
      ],
      "execution_count": 101,
      "outputs": []
    }
  ]
}